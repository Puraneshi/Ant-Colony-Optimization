{
 "cells": [
  {
   "cell_type": "code",
   "execution_count": 3,
   "metadata": {
    "pycharm": {
     "name": "#%%\n"
    }
   },
   "outputs": [],
   "source": [
    "route_mtx = [[0.0,1.0,2.2,2.0,4.1],\n",
    "             [1.0,0.0,1.4,2.2,4.0],\n",
    "             [2.2,1.4,0.0,2.2,3.2],\n",
    "             [2.0,2.2,2.2,0.0,2.2],\n",
    "             [4.1,4.0,3.2,2.2,0.0]]\n",
    "alpha = 1\n",
    "beta = 1\n",
    "pherormone = [1.0,1.0,1.0,1.0,1.0]"
   ]
  },
  {
   "cell_type": "code",
   "execution_count": 9,
   "metadata": {
    "pycharm": {
     "name": "#%%\n"
    }
   },
   "outputs": [],
   "source": [
    "def show_values(routes, pherormone, alpha=1, beta=1, evaporation=1):\n",
    "    return [(1/x)**alpha * y**beta if x != 0 else 0 for x,y in zip(routes, pherormone)]"
   ]
  },
  {
   "cell_type": "code",
   "execution_count": 13,
   "metadata": {
    "pycharm": {
     "name": "#%%\n"
    }
   },
   "outputs": [
    {
     "name": "stdout",
     "output_type": "stream",
     "text": [
      "0 [0, 1.0, 0.45454545454545453, 0.5, 0.24390243902439027]\n",
      "0.0\n",
      "0.4548663640948058\n",
      "0.20675743822491172\n",
      "0.2274331820474029\n",
      "0.11094301563287948\n",
      "1 [1.0, 0, 0.7142857142857143, 0.45454545454545453, 0.25]\n",
      "0.41342281879194626\n",
      "0.0\n",
      "0.29530201342281875\n",
      "0.1879194630872483\n",
      "0.10335570469798656\n",
      "2 [0.45454545454545453, 0.7142857142857143, 0, 0.45454545454545453, 0.3125]\n",
      "0.23480083857442346\n",
      "0.3689727463312369\n",
      "0.0\n",
      "0.23480083857442346\n",
      "0.16142557651991615\n",
      "3 [0.5, 0.45454545454545453, 0.45454545454545453, 0, 0.45454545454545453]\n",
      "0.26829268292682923\n",
      "0.2439024390243902\n",
      "0.2439024390243902\n",
      "0.0\n",
      "0.2439024390243902\n",
      "4 [0.24390243902439027, 0.25, 0.3125, 0.45454545454545453, 0]\n",
      "0.19342784921419937\n",
      "0.19826354544455435\n",
      "0.24782943180569292\n",
      "0.3604791735355533\n",
      "0.0\n"
     ]
    }
   ],
   "source": [
    "for i, route in enumerate(route_mtx):\n",
    "    div = show_values(route, pherormone)\n",
    "    print(i, div)\n",
    "    for h in div:\n",
    "        print(h/sum(div))"
   ]
  },
  {
   "cell_type": "code",
   "execution_count": null,
   "metadata": {
    "pycharm": {
     "name": "#%%\n"
    }
   },
   "outputs": [],
   "source": []
  }
 ],
 "metadata": {
  "kernelspec": {
   "display_name": "Python 3 (ipykernel)",
   "language": "python",
   "name": "python3"
  },
  "language_info": {
   "codemirror_mode": {
    "name": "ipython",
    "version": 3
   },
   "file_extension": ".py",
   "mimetype": "text/x-python",
   "name": "python",
   "nbconvert_exporter": "python",
   "pygments_lexer": "ipython3",
   "version": "3.9.12"
  }
 },
 "nbformat": 4,
 "nbformat_minor": 2
}